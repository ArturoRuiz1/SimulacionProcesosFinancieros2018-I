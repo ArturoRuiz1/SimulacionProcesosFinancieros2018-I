{
 "cells": [
  {
   "cell_type": "markdown",
   "metadata": {},
   "source": [
    "\n",
    "<img style=\"float: right; margin: 0px 0px 15px 15px;\" src=\"http://quantlabs.net/blog/wp-content/uploads/2015/11/pythonlogo.jpg\" width=\"200px\" height=\"100px\" />\n",
    "\n",
    "# Introducción a python \n",
    "- Sintaxis básicas de [Pyhton](https://www.tutorialspoint.com/python/python_basic_syntax.htm.)\n",
    "- Tipos de variables de Python\n"
   ]
  },
  {
   "attachments": {
    "imagen.png": {
     "image/png": "[encoded data removed]"
    }
   },
   "cell_type": "markdown",
   "metadata": {},
   "source": [
    "## Palabras reservadas por python (no ultilizar estas palabras para nombrar alguna variable)\n",
    "![imagen.png](attachment:imagen.png)"
   ]
  },
  {
   "cell_type": "markdown",
   "metadata": {},
   "source": [
    "## Lineas y sangría\n",
    "Python no crea bloques de código abriendo y cerrando llaves ({}) o paréntesis () o corchetes [], para indicar que cierta sintaxis como puede ser una función (`function`), un ciclo (`for, while, if,` etc) ha empezado y ha terminado. Para indicarle a python que un bloque de código comienzan y termina se tienen en cuenta la sangría desde que se escribe algunas de las \"plabras reservadas\", como por ejemplo\n"
   ]
  },
  {
   "cell_type": "code",
   "execution_count": 6,
   "metadata": {},
   "outputs": [
    {
     "name": "stdout",
     "output_type": "stream",
     "text": [
      "Ingrese el valor de la variable condición -> 3\n",
      "El usuario ingresó un valor de condición diferente a 1 y 2\n"
     ]
    }
   ],
   "source": [
    "condicion = int(input(\"Ingrese el valor de la variable condición -> \"))\n",
    "if condicion == 1:\n",
    "    print(\"El usuario ingresó que condiciones es igual a %d\" % (condicion) )\n",
    "elif condicion == 2:\n",
    "    print(\"El usuario ingresó que condiciones es igual a 2\" )\n",
    "else:\n",
    "    print(\"El usuario ingresó un valor de condición diferente a 1 y 2\")"
   ]
  },
  {
   "cell_type": "markdown",
   "metadata": {},
   "source": [
    "## Comillas en python"
   ]
  },
  {
   "cell_type": "code",
   "execution_count": 8,
   "metadata": {},
   "outputs": [
    {
     "name": "stdout",
     "output_type": "stream",
     "text": [
      "palabra\n",
      "La frase completa\n",
      " Este es un párrafo de varias \n",
      "lineas hechas como ejemplo para el curso de simulación de procesos financieros\n"
     ]
    }
   ],
   "source": [
    "Una_palabra = 'palabra'                  # este es el comentario de esta línea\n",
    "Una_frase = \"La frase completa\"\n",
    "Un_párrafo = \"\"\" Este es un párrafo de varias \n",
    "lineas hechas como ejemplo para el curso de simulación de procesos financieros\"\"\"\n",
    "print(Una_palabra)\n",
    "print(Una_frase)\n",
    "print(Un_párrafo)"
   ]
  },
  {
   "cell_type": "markdown",
   "metadata": {},
   "source": [
    "## Variables de python\n",
    "Los tipos de variables con los que trabaja python son:\n",
    "- Números\n",
    "     - Enteros (int)\n",
    "     - Enteros largos (long)- se pueden representar números en `octal` y `hexadecimal`\n",
    "     - Decimales (flotantes - float)\n",
    "     - Complejos \n",
    "- Texto (string)"
   ]
  },
  {
   "cell_type": "code",
   "execution_count": 18,
   "metadata": {},
   "outputs": [
    {
     "name": "stdout",
     "output_type": "stream",
     "text": [
      "5 , 5.5 , Curso Simulación , 7 , 1e-05 , carlos , (4+5j)\n"
     ]
    }
   ],
   "source": [
    "entero = 5\n",
    "flotante = 5.5\n",
    "text = \"Curso Simulación\"\n",
    "a,b,c,d = 7, 1e-5, \"carlos\", 4+5j\n",
    "print(entero,',',flotante,',',text,',',a,',',b,',',c,',',d)"
   ]
  },
  {
   "cell_type": "markdown",
   "metadata": {},
   "source": [
    "### Tipos estándar de datos en python\n",
    "Python tiene cinco tipos estándar de datos, para almacenar datos en la memoria:\n",
    "- <font color = red> Números </font>\n",
    "- Texto \n",
    "- Listas\n",
    "- Tuplas\n",
    "- Diccionarios"
   ]
  },
  {
   "cell_type": "markdown",
   "metadata": {},
   "source": [
    "- ### Texto\n",
    "Las variables que tienen almacenados texto se puede acceder a alguna posición de la variable en particular, haciendo uso de ([] y [:]) para indicar los indices que empiezan desde 0 para el comienzo de la palabra y trabajando en sentido contrario -1 para el último término. Observemos un ejemplo: "
   ]
  },
  {
   "cell_type": "code",
   "execution_count": 26,
   "metadata": {},
   "outputs": [
    {
     "name": "stdout",
     "output_type": "stream",
     "text": [
      "Hola grupo estamos probando\n",
      " gru\n",
      "po estamos proban\n",
      "mos probando\n",
      "Hola grupo estamos probando -Adición de palabras\n",
      "Hola grupo estamos probandoHola grupo estamos probando\n"
     ]
    }
   ],
   "source": [
    "d =\"Hola grupo estamos probando\"\n",
    "print(d)\n",
    "print(d[4:8])\n",
    "print(d[8:-2])\n",
    "print(d[15:])\n",
    "print(d+ \" -Adición de palabras\")\n",
    "print(d*2)"
   ]
  },
  {
   "cell_type": "markdown",
   "metadata": {},
   "source": [
    "- ### Listas\n",
    "Las listas son herramientas que almacenan tipos de datos separados por comas (\",\") y encerrados dentro de un corchete ([]). Los items dentro de una lista pueden ser de diferente tipo. De igual forma que los textos también se puede acceder a una posición en particular de las listas usando ([],[:]), duplicar la lista usando ('*') y el operador ('+') para la concatenación de listas"
   ]
  },
  {
   "cell_type": "code",
   "execution_count": 38,
   "metadata": {},
   "outputs": [
    {
     "name": "stdout",
     "output_type": "stream",
     "text": [
      "['Palabra', 'una frase', 40, 5.5, (4+4j), [1, 2, 3]]\n",
      "Palabra\n",
      "[5.5, (4+4j), [1, 2, 3]]\n",
      "[(4+4j)]\n",
      "1\n",
      "['Palabra', 'una frase', 40, 5.5, (4+4j), [1, 2, 3], 'concatenacion', 6, 7]\n",
      "['Palabra', 'una frase', 40, 5.5, (4+4j), [1, 2, 3], 'Palabra', 'una frase', 40, 5.5, (4+4j), [1, 2, 3]]\n"
     ]
    }
   ],
   "source": [
    "lista1 = ['Palabra', \"una frase\", 40, 5.5,4+4j,[1,2,3]]\n",
    "print(lista1)\n",
    "lista1\n",
    "print(lista1[0])\n",
    "print(lista1[3:])\n",
    "print(lista1[4:-1])\n",
    "print(lista1[-1][0])\n",
    "print(lista1 + [\"concatenacion\",6,7])\n",
    "print(lista1*2)"
   ]
  },
  {
   "cell_type": "markdown",
   "metadata": {},
   "source": [
    "- ### Tuplas\n",
    "Las tuplas son otras secuencia de datos simulares a las listas. Para escr"
   ]
  }
 ],
 "metadata": {
  "kernelspec": {
   "display_name": "Python 3",
   "language": "python",
   "name": "python3"
  },
  "language_info": {
   "codemirror_mode": {
    "name": "ipython",
    "version": 3
   },
   "file_extension": ".py",
   "mimetype": "text/x-python",
   "name": "python",
   "nbconvert_exporter": "python",
   "pygments_lexer": "ipython3",
   "version": "3.6.2"
  }
 },
 "nbformat": 4,
 "nbformat_minor": 2
}
