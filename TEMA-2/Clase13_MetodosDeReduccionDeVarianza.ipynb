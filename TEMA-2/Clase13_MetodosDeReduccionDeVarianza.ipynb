{
 "cells": [
  {
   "cell_type": "markdown",
   "metadata": {},
   "source": [
    "<img style=\"float: right; margin: 0px 0px 15px 15px;\"\n",
    "src=\"MontecarloImag.jpeg\" width=\"300px\" height=\"100px\" />\n",
    "# Técnicas de reducción de varianza\n",
    "\n",
    "**Objetivos:**\n",
    "1. Estudiar el método de integración montecarlos para aproximación de integrales.\n",
    "2. Estudiar dos técnicas para reducción de varianza\n",
    "   - Muestreo estratificado\n",
    "   - Método de números aleatorios complementarios\n"
   ]
  },
  {
   "cell_type": "markdown",
   "metadata": {},
   "source": [
    "## 1. Integración numérica Montecarlo\n",
    "\n",
    "En esta clase veremos una técnica alternativa de integración numérica (métodos numéricos): Integración Montecarlo\n",
    "\n",
    "### Introducción\n",
    "\n",
    "En matempaticas financieras un problema frecuente es el valuar instrumentos financieros cuyos rendimientos son aleatorios. Por ejemplo los instrumentos de renta variable, las inversiones en la bolsa o los derivados, cuyos rendimientos dependen del comportamiento de una acción o de un bien como el oro o el petróleo. La valuación de estos instrumentos se reduce, al cálculo de una esperanza de una función continua de una variable aleatoria.\n",
    "\n",
    "Recordando algunos conceptos de probabilidad. Sea **$x$ una variable aleatoria continua**, si su función de densidad de probabilidad es $f(x)$, en un intervalo $[\\alpha,\\beta]$, entonces\n",
    "\n",
    "$$ P(X\\leq c) = \\int_\\alpha^c f(x) dx$$\n",
    "\n",
    "$$ \\textbf{Esperanza}\\rightarrow E(g(x))=\\int_\\alpha^\\beta g(x)f(x) dx $$\n",
    "$$ \\textbf{Varianza}\\rightarrow Var(g(x))=E(g(x)^2)-E(g(x))^2=\\int_\\alpha^\\beta g(x)^2f(x) dx -E(x)^2$$\n",
    "\n",
    "Con frecuencia no es posible aplicar un método de integración para calcular en forma exacta la integral. En ese caso hay que aproximar la integral por medio de un método de integración numérico o por monte carlo. "
   ]
  },
  {
   "cell_type": "markdown",
   "metadata": {},
   "source": [
    "## Método monte carlo\n",
    "\n",
    "Se sabe por la Ley de los Grandes Números que un buen estimador del valor esperado de una variable aleatoria continua $X$ con distribución $F$ es el valor promedio de una muestra finita de variables aleatorias, independientes con distribución $F$: Es decir\n",
    "$$ E(X)\\approx \\frac{1}{M}\\sum_{i=1}^M X_i$$\n",
    "\n",
    "Como la esperanza de una variable aleatoria continua es una integral, la media muestral se puede usar para estimar el valor de una integral. Esta es la idea que está detrás del método de Monte-Carlo.\n",
    "\n",
    "Esta idea se puede generalizar para estimar el valor esperado de una función $G$ continua cuyo argumento es una variable aleatoria con distribución $F$: Si se tiene una muestra de variables aleatorias, independientes, idénticamente distribuidas con distribución $F$; entonces\n",
    "\n",
    "$$ E(G(X))\\approx \\frac{1}{M}\\sum_{i=1}^M G(X_i)$$"
   ]
  },
  {
   "cell_type": "markdown",
   "metadata": {},
   "source": [
    "### Aplicación al cálculo de integrales\n",
    "\n",
    "En el caso de interés, se desea estimar la integral de una función $G$ continua, esta integral puede verse como el cálculo del valor esperado de la función $G$ cuando se aplica a una variable aleatoria con distribución uniforme. Supongamos que el intervalo de integración es $[0, 1]$ y sea $x_1, x_2, \\cdots, x_M$ una muestra de variables aleatorias, independientes\n",
    "con distribución uniforme en el intervalo $[0, 1]$ entonces:\n",
    "\n",
    "$$ \\int_0^1G(x)dx = E(G(x)) \\approx \\frac{1}{M}\\sum_{i=1}^M G(X_i)$$\n",
    "\n",
    "** Todo el problema se reduce a generar la muestra**.\n",
    "\n",
    "Por otro lado observe que toda integral en el intervalo $[a,b]$ se puede transformar a una integral sobre el intervalo $[0,1]$, con el siguiente cambio de variable $u = \\frac{x-a}{b-a} \\rightarrow x = a+(b-a)u$ con $dx=(b-a)du$, entonces\n",
    "\n",
    "$\\int_a^b G(x)dx= (b-a)\\int\\limits_0^1 G(a+(b-a)u)du\\approx \\frac{(b-a)}{M}\\sum\\limits_{i=1}^M G(\\underbrace{a+(b-a)u_i}_{variable \\ U\\sim[a,b]})$\n",
    "\n",
    "con $u_i$ variables aleatorias uniformes en el intervalo $[0,1]$"
   ]
  },
  {
   "cell_type": "markdown",
   "metadata": {},
   "source": [
    "Escribamos una función que tenga como entradas:\n",
    "- la función a integrar $f$,\n",
    "- los límites de integración $a$ y $b$, y\n",
    "- los números aleatorios distribuidos uniformemente entre $[a,b]$,\n",
    "\n",
    "y que devuelva la aproximación montecarlo de la integral $\\int_{a}^{b}f(x)\\text{d}x$."
   ]
  },
  {
   "cell_type": "code",
   "execution_count": 1,
   "metadata": {
    "collapsed": true
   },
   "outputs": [],
   "source": [
    "import numpy as np\n",
    "from functools import reduce\n",
    "import time\n",
    "import matplotlib.pyplot as plt\n",
    "import scipy.stats as st     # Librería estadística\n",
    "import pandas as pd"
   ]
  },
  {
   "cell_type": "code",
   "execution_count": 2,
   "metadata": {},
   "outputs": [],
   "source": [
    "# Integración montecarlo\n",
    "def int_montecarlo(f, a, b, U):\n",
    "    return (b-a)/len(U)*np.sum(f(U))"
   ]
  },
  {
   "cell_type": "markdown",
   "metadata": {},
   "source": [
    "### Ejemplo \n",
    "\n",
    "Aproxime el valor de la siguiente integral usando el método monte carlo\n",
    "\n",
    "$$I=\\int_{0}^{1}x^2\\text{d}x=\\left.\\frac{x^3}{3}\\right|_{x=0}^{x=1}=\\frac{1}{3}\\approx 0.33333$$"
   ]
  },
  {
   "cell_type": "code",
   "execution_count": 9,
   "metadata": {
    "scrolled": true
   },
   "outputs": [
    {
     "data": {
      "text/html": [
       "<div>\n",
       "<style>\n",
       "    .dataframe thead tr:only-child th {\n",
       "        text-align: right;\n",
       "    }\n",
       "\n",
       "    .dataframe thead th {\n",
       "        text-align: left;\n",
       "    }\n",
       "\n",
       "    .dataframe tbody tr th {\n",
       "        vertical-align: top;\n",
       "    }\n",
       "</style>\n",
       "<table border=\"1\" class=\"dataframe\">\n",
       "  <thead>\n",
       "    <tr style=\"text-align: right;\">\n",
       "      <th></th>\n",
       "      <th>Valor_aproximacion</th>\n",
       "      <th>Error_relativo%</th>\n",
       "    </tr>\n",
       "    <tr>\n",
       "      <th>Cantidad_terminos</th>\n",
       "      <th></th>\n",
       "      <th></th>\n",
       "    </tr>\n",
       "  </thead>\n",
       "  <tbody>\n",
       "    <tr>\n",
       "      <th>10</th>\n",
       "      <td>6.059926</td>\n",
       "      <td>4.316965</td>\n",
       "    </tr>\n",
       "    <tr>\n",
       "      <th>100</th>\n",
       "      <td>6.295445</td>\n",
       "      <td>0.598239</td>\n",
       "    </tr>\n",
       "    <tr>\n",
       "      <th>1000</th>\n",
       "      <td>6.374386</td>\n",
       "      <td>0.648202</td>\n",
       "    </tr>\n",
       "    <tr>\n",
       "      <th>10000</th>\n",
       "      <td>6.333359</td>\n",
       "      <td>0.000398</td>\n",
       "    </tr>\n",
       "    <tr>\n",
       "      <th>100000</th>\n",
       "      <td>6.332222</td>\n",
       "      <td>0.017553</td>\n",
       "    </tr>\n",
       "    <tr>\n",
       "      <th>1000000</th>\n",
       "      <td>6.334222</td>\n",
       "      <td>0.014036</td>\n",
       "    </tr>\n",
       "    <tr>\n",
       "      <th>10000000</th>\n",
       "      <td>6.332806</td>\n",
       "      <td>0.008321</td>\n",
       "    </tr>\n",
       "  </tbody>\n",
       "</table>\n",
       "</div>"
      ],
      "text/plain": [
       "                   Valor_aproximacion  Error_relativo%\n",
       "Cantidad_terminos                                     \n",
       "10                           6.059926         4.316965\n",
       "100                          6.295445         0.598239\n",
       "1000                         6.374386         0.648202\n",
       "10000                        6.333359         0.000398\n",
       "100000                       6.332222         0.017553\n",
       "1000000                      6.334222         0.014036\n",
       "10000000                     6.332806         0.008321"
      ]
     },
     "execution_count": 9,
     "metadata": {},
     "output_type": "execute_result"
    }
   ],
   "source": [
    "I = 1/3\n",
    "# intervalo de integración\n",
    "a = 0; b = 1\n",
    "\n",
    "# Cantidad de términos\n",
    "N = np.logspace(1,7,7).astype(int)\n",
    "\n",
    "# Definimos la tabla donde se mostrarán los resultados\n",
    "df = pd.DataFrame(index=N,columns=['Valor_aproximacion', 'Error_relativo%'], dtype='float')\n",
    "df.index.name = \"Cantidad_terminos\"\n",
    "\n",
    "# Números aleatorios dependiente de la cantidad de términos N\n",
    "ui = list(map(lambda N:np.random.uniform(a,b,N),N))\n",
    "\n",
    "# Calculamos la aproximación por montecarlo dependiendo de la cantidad de\n",
    "# términos que hayamos creado con ui\n",
    "I_m = list(map(lambda Y:int_montecarlo(lambda x:x**2,a,b,Y),ui))\n",
    "\n",
    "# Mostramos los resultados en la tabla previamente creada\n",
    "df.loc[N,\"Valor_aproximacion\"] = I_m\n",
    "df.loc[N,\"Error_relativo%\"] = np.abs(df.loc[N,\"Valor_aproximacion\"]-I)*100/I\n",
    "df"
   ]
  },
  {
   "cell_type": "markdown",
   "metadata": {},
   "source": [
    "### Nota:\n",
    "Sean $I=E(g(x))$ y el estimado de $I$ es $\\tilde I_M = \\frac{1}{M}\\sum\\limits_{i=1}^M g(X_i)$. Tome $\\sigma$ como la desviación estándar de $g(X)$ y $\\tilde \\sigma$ como la desviación estándar muestral. Por lo tanto, se tiene entonces que:\n",
    "\n",
    "$$ Var(\\tilde I_M)=\\frac{\\sigma^2}{M} \\longrightarrow std(\\tilde I_M)=\\frac{\\sigma}{\\sqrt{M}}$$\n",
    "\n",
    "Típicamente no se tiene conocimiento de $\\sigma$ por lo tanto se puede estimar por medio de la varianza muestral.\n",
    "$$\\tilde \\sigma^2=\\frac{1}{M-1}\\sum\\limits_{i=1}^{M}(g(X_i)-\\tilde I_M)^2$$\n",
    "\n",
    "### Conclusión \n",
    "\n",
    "Si se desea disminuir el error de estimación de la integral (desviación estándar), hay dos caminos:\n",
    "   1. Aumentar la cantidad de muestras a evaluar en la función, **(Proceso lento)**, o\n",
    "   2. Utilizar técnicas para disminuir la varianza."
   ]
  },
  {
   "cell_type": "markdown",
   "metadata": {},
   "source": [
    "# 2. Reducción de varianza\n",
    "\n",
    "## a. Muestreo estratificado\n",
    "\n",
    "La idea radica en la observación de que la población puede ser **heterogénea** y consta de varios subgrupos homogéneos (como género, raza, estado económico social). Si deseamos aprender sobre toda la población (como si a la gente en México le gustaría votar para las elecciones en 2018), podemos tomar una muestra aleatoria de toda la población para estimar esa cantidad. Por otro lado, sería más eficiente tomar muestras pequeñas de cada subgrupo y combinar las estimaciones en cada subgrupo según la fracción de la población representada por el subgrupo. Dado que podemos conocer la opinión de un subgrupo homogéneo con un tamaño de muestra relativamente pequeño, este procedimiento de muestreo estratificado sería más eficiente.\n",
    "\n",
    "Si nosotros deseamos estimar $E(X)$, donde $X$ depende de una variable aleatoria $S$ que toma uno de los valores en $\\{1, ...,k\\}$ con probabilidades conocidas, entonces la técnica de estratificación se ejecuta en k grupos, con el i-ésimo grupo que tiene $S = i$, tomando $\\bar X_i$ es el valor promedio de $X$ cuando se estuvo en el grupo $S = i$, y luego se estima $E(x)$ por:\n",
    "$$E(x)=\\sum\\limits_{i=1}^{k}\\underbrace{E(X|S=i)}_{\\text{media muestral del i-ésimo grupo}}P(S=i)=\\sum\\limits_{i=1}^{k} \\bar X_i P(S=i)$$\n",
    "\n",
    "Para ilustrar considere que queremos estimar $E(g(U))=\\int_0^1g(x)dx$. Para esto vamos a considerar dos estimadores basados en una muestra de 2n corridas.\n",
    "\n",
    "1.**Método estándar (visto anteriormente)**\n",
    "$$\\textbf{media}\\rightarrow \\hat g=\\frac{1}{2n}\\sum\\limits_{i=1}^{2n} g(U_i)$$\n",
    "\n",
    "$$\\textbf{varianza}\\rightarrow Var(\\hat g)=\\frac{1}{4n^2}\\sum\\limits_{i=1}^{2n} Var(g(U_i))=$$\n",
    "\n",
    "Por otro lado nosotros podemos escribir\n",
    "\n",
    "$$E(g(U))=\\int_0^{1/2}g(x)dx + \\int_{1/2}^1g(x)dx$$\n",
    "\n",
    "   - Seleccionamos $n$ U's de $[0,1/2]$\n",
    "   - Seleccionamos $n$ U's de $[1/2,1]$\n",
    "   \n",
    "2.Con esta nueva selección construimos el **estimador estratificado**:\n",
    "\n",
    "$$\\textbf{media}\\rightarrow \\hat g_s=\\frac{1}{2n}\\big[\\sum\\limits_{i=1}^{2n} g(\\underbrace{U_i/2}_{U\\sim [0,1/2]}) + \\sum\\limits_{i=n+1}^{2n} g\\big((\\underbrace{U_i+1)/2}_{U\\sim [1/2,1]}\\big)\\big]$$\n",
    "\n",
    "$$\\textbf{varianza}\\rightarrow Var(\\hat g_s)=\\frac{1}{4n^2}\\big[\\sum\\limits_{i=1}^{n} Var(g(U_i/2)) + \\sum\\limits_{i=n+1}^{2n} Var(g\\big((U_i+1)/2\\big))\\big]$$\n",
    "\n",
    "Realizando el cálculo directo tomando $U_i\\sim U(0,1)$, se puede mostrar que:\n",
    "\n",
    "$$Var(g(U_i/2)) = 2 \\int_0^{1/2} g^2(x)dx - 4m_1^2,$$\n",
    "$$Var(g((U_i+1)/2)) = 2 \\int_{1/2}^1 g^2(x)dx - 4m_2^2,$$\n",
    "\n",
    "donde $m_1 = \\int_0^{1/2}g(x)dx$ y $m_2 = \\int_{1/2}^1g(x)dx$\n",
    "\n",
    "Realizando varias manipulaciones algebraicas se llega a que \n",
    "\n",
    "> $$Var(\\hat g_s) = Var(\\hat g)-\\frac{1}{2n}(m_1-m_2)^2$$\n",
    "\n",
    "<font color ='red'> La varianza se disminuye con respecto a $Var(\\hat g)$"
   ]
  },
  {
   "cell_type": "markdown",
   "metadata": {},
   "source": [
    "### Ejemplo\n",
    "Como ilustración de la estratificación, considere la simulación de números aleatorios normales estándar mediante el método estándar y el método de estratificación, respectivamente."
   ]
  },
  {
   "cell_type": "code",
   "execution_count": 53,
   "metadata": {},
   "outputs": [
    {
     "name": "stdout",
     "output_type": "stream",
     "text": [
      "media 1= 0.0\n",
      "media 2= 0.0\n",
      "varianza 1= 0.0010006427764892578\n",
      "varianza 2= 0.0005021095275878906\n",
      "creada: 1.10073002784 numpy: 1.10073002784\n"
     ]
    }
   ],
   "source": [
    "np.random.seed(5555)\n",
    "# Muestras\n",
    "N = 500\n",
    "muestras = np.random.normal(np.random.rand(N))\n",
    "\n",
    "# Cálculo de media\n",
    "t1 = time.time()\n",
    "g_hat = (sum(muestras))/len(muestras)\n",
    "t2 = time.time()\n",
    "print('media 1=',t2-t1)\n",
    "\n",
    "t1 = time.time()\n",
    "g_hat2 = np.mean(muestras)\n",
    "t2 = time.time()\n",
    "print('media 2=',t2-t1)\n",
    "\n",
    "# cálculo de la varianza\n",
    "t1 = time.time()\n",
    "# varg_hat = sum(list(map(lambda l:l**2,muestras-g_hat)))/len(muestras)\n",
    "varg_hat = np.mean(list(map(lambda l:l**2,muestras-g_hat)))\n",
    "t2 = time.time()\n",
    "print('varianza 1=',t2-t1)\n",
    "\n",
    "t1 = time.time()\n",
    "var_numpy = np.var(muestras)\n",
    "t2 = time.time()\n",
    "print('varianza 2=',t2-t1)\n",
    "\n",
    "print('creada:',varg_hat,'numpy:',var_numpy)\n"
   ]
  },
  {
   "cell_type": "code",
   "execution_count": 3,
   "metadata": {},
   "outputs": [
    {
     "data": {
      "image/png": "[encoded data removed]",
      "text/plain": [
       "<matplotlib.figure.Figure at 0x1fdd30cc860>"
      ]
     },
     "metadata": {},
     "output_type": "display_data"
    },
    {
     "data": {
      "image/png": "[encoded data removed]",
      "text/plain": [
       "<matplotlib.figure.Figure at 0x1fdd34eef60>"
      ]
     },
     "metadata": {},
     "output_type": "display_data"
    }
   ],
   "source": [
    "N = 500\n",
    "# Método montecarlo estándar\n",
    "montecarlo_standar = st.norm.ppf(np.random.rand(N))\n",
    "plt.hist(montecarlo_standar,50,normed=True)\n",
    "plt.title('Montecarlo estándar')\n",
    "plt.xlim((-3.5,3.5))\n",
    "plt.show()\n",
    "\n",
    "# Método muestreo estratificado\n",
    "U2 = np.random.rand(N)\n",
    "i = np.arange(0,N)\n",
    "v = (U2+i)/N\n",
    "m_estratificado = st.norm.ppf(v)\n",
    "\n",
    "plt.hist(m_estratificado,50,normed=True)\n",
    "plt.title('Muestreo estratificado')\n",
    "plt.xlim((-3.5,3.5))\n",
    "plt.show()"
   ]
  },
  {
   "cell_type": "markdown",
   "metadata": {},
   "source": [
    "<script>\n",
    "  $(document).ready(function(){\n",
    "    $('div.prompt').hide();\n",
    "    $('div.back-to-top').hide();\n",
    "    $('nav#menubar').hide();\n",
    "    $('.breadcrumb').hide();\n",
    "    $('.hidden-print').hide();\n",
    "  });\n",
    "</script>\n",
    "\n",
    "<footer id=\"attribution\" style=\"float:right; color:#808080; background:#fff;\">\n",
    "Created with Jupyter by Oscar David Jaramillo Zuluaga.\n",
    "</footer>"
   ]
  }
 ],
 "metadata": {
  "kernelspec": {
   "display_name": "Python 3",
   "language": "python",
   "name": "python3"
  },
  "language_info": {
   "codemirror_mode": {
    "name": "ipython",
    "version": 3
   },
   "file_extension": ".py",
   "mimetype": "text/x-python",
   "name": "python",
   "nbconvert_exporter": "python",
   "pygments_lexer": "ipython3",
   "version": "3.6.2"
  }
 },
 "nbformat": 4,
 "nbformat_minor": 2
}
