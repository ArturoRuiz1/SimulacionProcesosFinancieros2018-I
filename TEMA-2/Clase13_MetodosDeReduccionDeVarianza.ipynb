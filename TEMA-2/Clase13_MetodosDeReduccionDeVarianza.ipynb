{
 "cells": [
  {
   "cell_type": "markdown",
   "metadata": {},
   "source": [
    "# Técnicas de reducción de varianza\n"
   ]
  },
  {
   "cell_type": "code",
   "execution_count": 68,
   "metadata": {
    "collapsed": true
   },
   "outputs": [],
   "source": [
    "import numpy as np\n",
    "from functools import reduce\n",
    "import time\n",
    "import matplotlib.pyplot as plt\n",
    "import scipy.stats as st     # Librería estadística"
   ]
  },
  {
   "cell_type": "code",
   "execution_count": 53,
   "metadata": {},
   "outputs": [
    {
     "name": "stdout",
     "output_type": "stream",
     "text": [
      "media 1= 0.0\n",
      "media 2= 0.0\n",
      "varianza 1= 0.0010006427764892578\n",
      "varianza 2= 0.0005021095275878906\n",
      "creada: 1.10073002784 numpy: 1.10073002784\n"
     ]
    }
   ],
   "source": [
    "np.random.seed(5555)\n",
    "# Muestras\n",
    "N = 500\n",
    "muestras = np.random.normal(np.random.rand(N))\n",
    "\n",
    "# Cálculo de media\n",
    "t1 = time.time()\n",
    "g_hat = (sum(muestras))/len(muestras)\n",
    "t2 = time.time()\n",
    "print('media 1=',t2-t1)\n",
    "\n",
    "t1 = time.time()\n",
    "g_hat2 = np.mean(muestras)\n",
    "t2 = time.time()\n",
    "print('media 2=',t2-t1)\n",
    "\n",
    "# cálculo de la varianza\n",
    "t1 = time.time()\n",
    "# varg_hat = sum(list(map(lambda l:l**2,muestras-g_hat)))/len(muestras)\n",
    "varg_hat = np.mean(list(map(lambda l:l**2,muestras-g_hat)))\n",
    "t2 = time.time()\n",
    "print('varianza 1=',t2-t1)\n",
    "\n",
    "t1 = time.time()\n",
    "var_numpy = np.var(muestras)\n",
    "t2 = time.time()\n",
    "print('varianza 2=',t2-t1)\n",
    "\n",
    "print('creada:',varg_hat,'numpy:',var_numpy)\n"
   ]
  },
  {
   "cell_type": "code",
   "execution_count": 74,
   "metadata": {},
   "outputs": [
    {
     "data": {
      "image/png": "[encoded data removed]",
      "text/plain": [
       "<matplotlib.figure.Figure at 0x20688161a58>"
      ]
     },
     "metadata": {},
     "output_type": "display_data"
    },
    {
     "data": {
      "image/png": "[encoded data removed]",
      "text/plain": [
       "<matplotlib.figure.Figure at 0x206891f0f60>"
      ]
     },
     "metadata": {},
     "output_type": "display_data"
    }
   ],
   "source": [
    "N = 40000\n",
    "# Método montecarlo estándar\n",
    "montecarlo_standar = st.norm.ppf(np.random.rand(N))\n",
    "plt.hist(montecarlo_standar,50,normed=True)\n",
    "plt.title('Montecarlo estándar')\n",
    "plt.xlim((-3.5,3.5))\n",
    "plt.show()\n",
    "\n",
    "# Método muestreo estratificado\n",
    "U2 = np.random.rand(N)\n",
    "i = np.arange(0,N)\n",
    "v = (U2+i)/N\n",
    "m_estratificado = st.norm.ppf(v)\n",
    "\n",
    "plt.hist(m_estratificado,50,normed=True)\n",
    "plt.title('Muestreo estratificado')\n",
    "plt.xlim((-3.5,3.5))\n",
    "plt.show()"
   ]
  },
  {
   "cell_type": "markdown",
   "metadata": {},
   "source": [
    "<script>\n",
    "  $(document).ready(function(){\n",
    "    $('div.prompt').hide();\n",
    "    $('div.back-to-top').hide();\n",
    "    $('nav#menubar').hide();\n",
    "    $('.breadcrumb').hide();\n",
    "    $('.hidden-print').hide();\n",
    "  });\n",
    "</script>\n",
    "\n",
    "<footer id=\"attribution\" style=\"float:right; color:#808080; background:#fff;\">\n",
    "Created with Jupyter by Oscar David Jaramillo Zuluaga.\n",
    "</footer>"
   ]
  }
 ],
 "metadata": {
  "kernelspec": {
   "display_name": "Python 3",
   "language": "python",
   "name": "python3"
  },
  "language_info": {
   "codemirror_mode": {
    "name": "ipython",
    "version": 3
   },
   "file_extension": ".py",
   "mimetype": "text/x-python",
   "name": "python",
   "nbconvert_exporter": "python",
   "pygments_lexer": "ipython3",
   "version": "3.6.2"
  }
 },
 "nbformat": 4,
 "nbformat_minor": 2
}
